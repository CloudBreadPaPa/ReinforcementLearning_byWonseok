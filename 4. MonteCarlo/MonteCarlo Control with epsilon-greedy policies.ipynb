{
 "cells": [
  {
   "cell_type": "code",
   "execution_count": null,
   "metadata": {},
   "outputs": [],
   "source": [
    "%matplotlib inline\n",
    "\n",
    "import gym\n",
    "import matplotlib\n",
    "import numpy as np\n",
    "import sys\n",
    "\n",
    "from collections import defaultdict\n",
    "if \"../\" not in sys.path:\n",
    "  sys.path.append(\"../\") \n",
    "from lib.envs.blackjack import BlackjackEnv\n",
    "from lib import plotting\n",
    "\n",
    "matplotlib.style.use('ggplot')"
   ]
  },
  {
   "cell_type": "code",
   "execution_count": null,
   "metadata": {},
   "outputs": [],
   "source": [
    "env=BlackjackEnv()"
   ]
  },
  {
   "cell_type": "code",
   "execution_count": null,
   "metadata": {},
   "outputs": [],
   "source": [
    "def make_epsilon_greedy_policy(Q, epsilon,nA):\n",
    "    \n",
    "    def policy_fn(observation):\n",
    "        \n",
    "        A= np.ones(nA, dtype=float)*epsilon/nA\n",
    "        print(\"np.ones(nA, dtype=float)*epsilon/nA\" ,A)\n",
    "              \n",
    "        best_action =np.argmax(Q[observation])\n",
    "        print(\"np.argmax(Q[oservation]) is \", best_action)\n",
    "        A[best_action] += (1.0 - epsilon)\n",
    "        return A \n",
    "        print(A)\n",
    "        \n",
    "    return policy_fn\n",
    "\n",
    "              "
   ]
  },
  {
   "cell_type": "code",
   "execution_count": null,
   "metadata": {},
   "outputs": [],
   "source": [
    "def mc_control_epsilon_greedy(env, num_episodes, discount_factor = 1.0, epsilon=0.1):\n",
    "    \n",
    "    \n",
    "    returns_sum = defaultdict(float)\n",
    "    returns_count=defaultdict(float)\n",
    "    \n",
    "    \n",
    "    Q= defaultdict(lambda:np.zeros(env.action_space.n))\n",
    "    \n",
    "    policy = make_epsilon_greedy_policy(Q, epsilon, env.action_space.n)\n",
    "    \n",
    "    for i_episode in range(1, num_episodes +1):\n",
    "        if i_episode % 1000 ==0: \n",
    "            print(\"\\rEpisode {}/{}.\".format(i_episode, num_episodes), end=\"\")\n",
    "            sys.stdout.flush()\n",
    "        episode =[]\n",
    "        state=env.reset()\n",
    "        \n",
    "        for t in range(100):\n",
    "            probs = policy(state)\n",
    "            action=np.random.choice(np.arange(len(probs)), p=probs)\n",
    "            next_state, reward, done, _ = env.step(action)\n",
    "            episode.append((state, action, reward))\n",
    "            print(\"episode is added \", episode)\n",
    "            if done:\n",
    "                break\n",
    "            state = next_state\n",
    "            \n",
    "        sa_in_episode = set([(tuple(x[0]), x[1]) for x in episode])\n",
    "        \n",
    "        print(\"sa_in_episode = set([tuple(x[0]), x[1]]) for x in episode])\",sa_in_episode)\n",
    "        \n",
    "        for state, action in sa_in_episode:\n",
    "            sa_pair=(state, action)\n",
    "            print(\"(state,action)\",sa_pair)\n",
    "            first_occurence_idx = next(i for i,x in enumerate(episode)\n",
    "                                      if x[0] == state and x[1] == action) \n",
    "            G= sum([x[2]* (discount_factor**i) for i,x in enumerate(episode[first_occurence_idx:])])\n",
    "                     \n",
    "                    \n",
    "                     \n",
    "                     #calculate average return for this state over all sampled episodes\n",
    "                     \n",
    "            returns_sum[sa_pair] += G\n",
    "            returns_count[sa_pair] += 1.0 \n",
    "            \n",
    "            Q[state][action] = returns_sum[sa_pair] / returns_count[ssdf]\n",
    "            \n",
    "            \n",
    "    return Q, policy\n",
    "                    \n",
    "                     \n",
    "       \n",
    "        \n",
    "        \n",
    "        \n",
    "        #find all\n",
    "        \n",
    "        \n",
    "           "
   ]
  },
  {
   "cell_type": "code",
   "execution_count": null,
   "metadata": {},
   "outputs": [],
   "source": [
    "Q,policy = mc_control_epsilon_greedy(env,100000, epsilon=0.1)"
   ]
  },
  {
   "cell_type": "code",
   "execution_count": null,
   "metadata": {},
   "outputs": [],
   "source": [
    "# For plotting: Create value function from action-value function\n",
    "# by picking the best action at each state\n",
    "V = defaultdict(float)\n",
    "for state, actions in Q.items():\n",
    "    action_value = np.max(actions)\n",
    "    V[state] = action_value\n",
    "plotting.plot_value_function(V, title=\"Optimal Value Function\")"
   ]
  },
  {
   "cell_type": "code",
   "execution_count": null,
   "metadata": {},
   "outputs": [],
   "source": []
  },
  {
   "cell_type": "code",
   "execution_count": null,
   "metadata": {},
   "outputs": [],
   "source": []
  },
  {
   "cell_type": "code",
   "execution_count": null,
   "metadata": {},
   "outputs": [],
   "source": []
  },
  {
   "cell_type": "code",
   "execution_count": null,
   "metadata": {},
   "outputs": [],
   "source": []
  },
  {
   "cell_type": "code",
   "execution_count": null,
   "metadata": {},
   "outputs": [],
   "source": []
  },
  {
   "cell_type": "code",
   "execution_count": null,
   "metadata": {},
   "outputs": [],
   "source": []
  },
  {
   "cell_type": "code",
   "execution_count": null,
   "metadata": {},
   "outputs": [],
   "source": []
  },
  {
   "cell_type": "code",
   "execution_count": null,
   "metadata": {},
   "outputs": [],
   "source": []
  },
  {
   "cell_type": "code",
   "execution_count": null,
   "metadata": {},
   "outputs": [],
   "source": []
  },
  {
   "cell_type": "code",
   "execution_count": null,
   "metadata": {},
   "outputs": [],
   "source": []
  },
  {
   "cell_type": "code",
   "execution_count": null,
   "metadata": {},
   "outputs": [],
   "source": []
  },
  {
   "cell_type": "code",
   "execution_count": null,
   "metadata": {},
   "outputs": [],
   "source": []
  },
  {
   "cell_type": "code",
   "execution_count": null,
   "metadata": {},
   "outputs": [],
   "source": []
  },
  {
   "cell_type": "code",
   "execution_count": null,
   "metadata": {},
   "outputs": [],
   "source": []
  },
  {
   "cell_type": "code",
   "execution_count": null,
   "metadata": {},
   "outputs": [],
   "source": []
  },
  {
   "cell_type": "code",
   "execution_count": null,
   "metadata": {},
   "outputs": [],
   "source": []
  },
  {
   "cell_type": "code",
   "execution_count": null,
   "metadata": {},
   "outputs": [],
   "source": []
  },
  {
   "cell_type": "code",
   "execution_count": null,
   "metadata": {},
   "outputs": [],
   "source": []
  },
  {
   "cell_type": "code",
   "execution_count": null,
   "metadata": {},
   "outputs": [],
   "source": []
  },
  {
   "cell_type": "code",
   "execution_count": null,
   "metadata": {},
   "outputs": [],
   "source": []
  },
  {
   "cell_type": "code",
   "execution_count": null,
   "metadata": {},
   "outputs": [],
   "source": []
  },
  {
   "cell_type": "code",
   "execution_count": null,
   "metadata": {},
   "outputs": [],
   "source": []
  },
  {
   "cell_type": "code",
   "execution_count": null,
   "metadata": {},
   "outputs": [],
   "source": []
  }
 ],
 "metadata": {
  "kernelspec": {
   "display_name": "Python 3",
   "language": "python",
   "name": "python3"
  },
  "language_info": {
   "codemirror_mode": {
    "name": "ipython",
    "version": 3
   },
   "file_extension": ".py",
   "mimetype": "text/x-python",
   "name": "python",
   "nbconvert_exporter": "python",
   "pygments_lexer": "ipython3",
   "version": "3.5.2"
  }
 },
 "nbformat": 4,
 "nbformat_minor": 2
}
